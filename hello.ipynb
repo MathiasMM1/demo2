{
 "cells": [
  {
   "cell_type": "code",
   "execution_count": 3,
   "id": "c71bdbca",
   "metadata": {},
   "outputs": [
    {
     "name": "stdout",
     "output_type": "stream",
     "text": [
      "hello word\n"
     ]
    }
   ],
   "source": [
    "print( 'hello word')"
   ]
  },
  {
   "cell_type": "code",
   "execution_count": 4,
   "id": "e3cee5d8",
   "metadata": {},
   "outputs": [
    {
     "name": "stdout",
     "output_type": "stream",
     "text": [
      "hello master 1\n"
     ]
    }
   ],
   "source": [
    "print('hello master 1')"
   ]
  },
  {
   "cell_type": "code",
   "execution_count": null,
   "id": "74340492",
   "metadata": {},
   "outputs": [],
   "source": []
  }
 ],
 "metadata": {
  "kernelspec": {
   "display_name": "Python 3 (ipykernel)",
   "language": "python",
   "name": "python3"
  },
  "language_info": {
   "codemirror_mode": {
    "name": "ipython",
    "version": 3
   },
   "file_extension": ".py",
   "mimetype": "text/x-python",
   "name": "python",
   "nbconvert_exporter": "python",
   "pygments_lexer": "ipython3",
   "version": "3.9.12"
  }
 },
 "nbformat": 4,
 "nbformat_minor": 5
}
